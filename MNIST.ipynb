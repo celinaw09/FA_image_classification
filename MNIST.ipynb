{
 "cells": [
  {
   "cell_type": "code",
   "execution_count": 35,
   "id": "d5879d99",
   "metadata": {},
   "outputs": [],
   "source": [
    "import torch\n",
    "import torch.nn as nn\n",
    "import torch.optim as optim\n",
    "from torchvision import datasets, transforms\n",
    "from torch.utils.data import DataLoader, Subset\n",
    "import torch.nn as nn\n",
    "import torch.nn.functional as F\n",
    "import matplotlib.pyplot as plt\n",
    "import seaborn as sns\n",
    "import numpy as np\n",
    "import os\n",
    "import pandas as pd\n",
    "import re\n",
    "import cv2"
   ]
  },
  {
   "cell_type": "code",
   "execution_count": 36,
   "id": "6e8d07d2",
   "metadata": {},
   "outputs": [],
   "source": [
    "def collect_image_info(dataset_root):\n",
    "    data = []\n",
    "\n",
    "    for label in [\"CME\", \"Non-CME\"]:\n",
    "        label_path = os.path.join(dataset_root, label)\n",
    "\n",
    "        if not os.path.isdir(label_path):\n",
    "            continue\n",
    "\n",
    "        for patient_folder in os.listdir(label_path):\n",
    "            patient_path = os.path.join(label_path, patient_folder)\n",
    "\n",
    "            if not os.path.isdir(patient_path):\n",
    "                continue\n",
    "\n",
    "            for image_name in os.listdir(patient_path):\n",
    "                if image_name.lower().endswith('.png'):\n",
    "                    image_name_lower = image_name.lower()\n",
    "                    eye = None\n",
    "\n",
    "                    # Match exact OD or OS as separate tokens\n",
    "                    if re.search(r'\\bod\\b', image_name_lower):\n",
    "                        # print(f\"right: {image_name}\")\n",
    "                        eye = 'right'\n",
    "                    elif re.search(r'\\bos\\b', image_name_lower):\n",
    "                        # print(f\"left: {image_name}\")\n",
    "                        eye = 'left'\n",
    "                    else:\n",
    "                        print(f\"eye not found: {image_name}\")\n",
    "\n",
    "                    full_path = os.path.join(patient_path, image_name)\n",
    "\n",
    "                    data.append({\n",
    "                        \"class\": label,\n",
    "                        \"patient_id\": patient_folder,\n",
    "                        \"eye\": eye,\n",
    "                        \"image_path\": full_path\n",
    "                    })\n",
    "\n",
    "    df = pd.DataFrame(data)\n",
    "    return df"
   ]
  },
  {
   "cell_type": "code",
   "execution_count": 37,
   "id": "e7c61bda",
   "metadata": {},
   "outputs": [],
   "source": [
    "dataset_root = \"/data2/users/koushani/chbmit/Eye_ML/data/RV_images_cropped\""
   ]
  },
  {
   "cell_type": "code",
   "execution_count": 38,
   "id": "b0cca8be",
   "metadata": {},
   "outputs": [],
   "source": [
    "df = collect_image_info(dataset_root)"
   ]
  },
  {
   "cell_type": "code",
   "execution_count": 39,
   "id": "97184168",
   "metadata": {},
   "outputs": [
    {
     "name": "stdout",
     "output_type": "stream",
     "text": [
      "      class patient_id    eye  \\\n",
      "55  Non-CME      CL OU   left   \n",
      "56  Non-CME      CL OU  right   \n",
      "57  Non-CME    JanC OD  right   \n",
      "58  Non-CME    MicC OU   left   \n",
      "59  Non-CME    MicC OU  right   \n",
      "60  Non-CME    RogD OD  right   \n",
      "61  Non-CME    ZarD OU   left   \n",
      "62  Non-CME    ZarD OU  right   \n",
      "63  Non-CME    PauB OU   left   \n",
      "64  Non-CME    PauB OU  right   \n",
      "\n",
      "                                           image_path  \n",
      "55  /data2/users/koushani/chbmit/Eye_ML/data/RV_im...  \n",
      "56  /data2/users/koushani/chbmit/Eye_ML/data/RV_im...  \n",
      "57  /data2/users/koushani/chbmit/Eye_ML/data/RV_im...  \n",
      "58  /data2/users/koushani/chbmit/Eye_ML/data/RV_im...  \n",
      "59  /data2/users/koushani/chbmit/Eye_ML/data/RV_im...  \n",
      "60  /data2/users/koushani/chbmit/Eye_ML/data/RV_im...  \n",
      "61  /data2/users/koushani/chbmit/Eye_ML/data/RV_im...  \n",
      "62  /data2/users/koushani/chbmit/Eye_ML/data/RV_im...  \n",
      "63  /data2/users/koushani/chbmit/Eye_ML/data/RV_im...  \n",
      "64  /data2/users/koushani/chbmit/Eye_ML/data/RV_im...  \n"
     ]
    }
   ],
   "source": [
    "print(df.tail(10))"
   ]
  },
  {
   "cell_type": "code",
   "execution_count": 40,
   "id": "162cebf6",
   "metadata": {},
   "outputs": [],
   "source": [
    "def compute_image_stats(df):\n",
    "    stats = []\n",
    "\n",
    "    for _, row in df.iterrows():\n",
    "        img_path = row[\"image_path\"]\n",
    "        img = cv2.imread(img_path, cv2.IMREAD_GRAYSCALE)  # Convert to grayscale\n",
    "\n",
    "        if img is None:\n",
    "            continue\n",
    "\n",
    "        h, w = img.shape\n",
    "        mean_intensity = img.mean()\n",
    "        std_intensity = img.std()\n",
    "        min_val = img.min()\n",
    "        max_val = img.max()\n",
    "\n",
    "        stats.append({\n",
    "            \"class\": row[\"class\"],\n",
    "            \"patient_id\": row[\"patient_id\"],\n",
    "            \"eye\": row[\"eye\"],\n",
    "            \"image_path\": img_path,\n",
    "            \"height\": h,\n",
    "            \"width\": w,\n",
    "            \"mean_intensity\": mean_intensity,\n",
    "            \"std_intensity\": std_intensity,\n",
    "            \"min_val\": min_val,\n",
    "            \"max_val\": max_val\n",
    "        })\n",
    "\n",
    "    stats_df = pd.DataFrame(stats)\n",
    "    return stats_df"
   ]
  },
  {
   "cell_type": "code",
   "execution_count": 41,
   "id": "940a1dfc",
   "metadata": {},
   "outputs": [],
   "source": [
    "stats_df = compute_image_stats(df)"
   ]
  },
  {
   "cell_type": "code",
   "execution_count": 42,
   "id": "d3c19a78",
   "metadata": {},
   "outputs": [
    {
     "name": "stdout",
     "output_type": "stream",
     "text": [
      "            height        width  mean_intensity  std_intensity  min_val  \\\n",
      "count    65.000000    65.000000       65.000000      65.000000     65.0   \n",
      "mean    855.353846   857.107692       51.265301      38.373872      0.0   \n",
      "std     253.308571   253.774452       15.037393       7.521898      0.0   \n",
      "min     754.000000   758.000000       23.258173      26.721086      0.0   \n",
      "25%     760.000000   762.000000       41.369882      33.711151      0.0   \n",
      "50%     762.000000   763.000000       46.674504      37.161092      0.0   \n",
      "75%     764.000000   765.000000       59.550287      40.972291      0.0   \n",
      "max    1529.000000  1530.000000      107.041443      70.665523      0.0   \n",
      "\n",
      "         max_val  \n",
      "count  65.000000  \n",
      "mean   -1.061538  \n",
      "std     0.496139  \n",
      "min    -5.000000  \n",
      "25%    -1.000000  \n",
      "50%    -1.000000  \n",
      "75%    -1.000000  \n",
      "max    -1.000000  \n"
     ]
    }
   ],
   "source": [
    "# Basic summaries\n",
    "print(stats_df.describe())"
   ]
  },
  {
   "cell_type": "code",
   "execution_count": 43,
   "id": "2b757764",
   "metadata": {},
   "outputs": [
    {
     "name": "stdout",
     "output_type": "stream",
     "text": [
      "height  width\n",
      "754     765      1\n",
      "755     765      1\n",
      "756     759      1\n",
      "758     763      1\n",
      "759     758      1\n",
      "        759      1\n",
      "        761      1\n",
      "        762      1\n",
      "        766      1\n",
      "760     759      1\n",
      "        760      4\n",
      "        761      3\n",
      "        762      4\n",
      "        763      2\n",
      "        764      1\n",
      "        765      2\n",
      "761     762      2\n",
      "        764      1\n",
      "        765      1\n",
      "        766      1\n",
      "762     761      1\n",
      "        762      5\n",
      "        763      1\n",
      "        764      2\n",
      "        765      1\n",
      "763     761      1\n",
      "        762      1\n",
      "        763      2\n",
      "        765      2\n",
      "764     763      1\n",
      "        764      2\n",
      "        765      1\n",
      "        766      1\n",
      "765     763      1\n",
      "        765      2\n",
      "        766      1\n",
      "767     764      1\n",
      "1522    1528     1\n",
      "1524    1529     2\n",
      "1526    1530     1\n",
      "1527    1530     1\n",
      "1529    1528     1\n",
      "        1530     2\n",
      "dtype: int64\n"
     ]
    }
   ],
   "source": [
    "# Check resolution distribution\n",
    "print(stats_df.groupby(['height', 'width']).size())"
   ]
  },
  {
   "cell_type": "code",
   "execution_count": 44,
   "id": "f1dc052c",
   "metadata": {},
   "outputs": [
    {
     "name": "stdout",
     "output_type": "stream",
     "text": [
      "CME        35\n",
      "Non-CME    30\n",
      "Name: class, dtype: int64\n"
     ]
    }
   ],
   "source": [
    "# Class balance\n",
    "print(stats_df['class'].value_counts())"
   ]
  },
  {
   "cell_type": "code",
   "execution_count": 45,
   "id": "3e8d197a",
   "metadata": {},
   "outputs": [
    {
     "name": "stdout",
     "output_type": "stream",
     "text": [
      "left     33\n",
      "right    32\n",
      "Name: eye, dtype: int64\n"
     ]
    }
   ],
   "source": [
    "# Eye balance\n",
    "print(stats_df['eye'].value_counts())"
   ]
  },
  {
   "cell_type": "code",
   "execution_count": 46,
   "id": "cc9c2f36",
   "metadata": {},
   "outputs": [
    {
     "data": {
      "image/png": "[encoded data removed]",
      "text/plain": [
       "<Figure size 432x288 with 1 Axes>"
      ]
     },
     "metadata": {
      "needs_background": "light"
     },
     "output_type": "display_data"
    }
   ],
   "source": [
    "\n",
    "plt.hist(stats_df[\"mean_intensity\"], bins=30)\n",
    "plt.title(\"Histogram of Mean Intensities\")\n",
    "plt.xlabel(\"Mean Pixel Intensity\")\n",
    "plt.ylabel(\"Number of Images\")\n",
    "plt.grid(True)\n",
    "plt.show()"
   ]
  },
  {
   "cell_type": "code",
   "execution_count": 47,
   "id": "78d76eee",
   "metadata": {},
   "outputs": [],
   "source": [
    "\n",
    "def central_crop(img, crop_size=256):\n",
    "    h, w = img.shape[:2]\n",
    "    cx, cy = w // 2, h // 2\n",
    "    x1 = max(cx - crop_size // 2, 0)\n",
    "    y1 = max(cy - crop_size // 2, 0)\n",
    "    x2 = x1 + crop_size\n",
    "    y2 = y1 + crop_size\n",
    "    return img[y1:y2, x1:x2]"
   ]
  },
  {
   "cell_type": "code",
   "execution_count": 53,
   "id": "687cae21",
   "metadata": {},
   "outputs": [],
   "source": [
    "def show_with_guiding_box_and_crop(image_path, guide_x=120, guide_y=100, box_size=300):\n",
    "    img = cv2.imread(image_path)\n",
    "    clone = img.copy()\n",
    "\n",
    "    # Draw guiding rectangle\n",
    "    cv2.rectangle(clone, (guide_x, guide_y), (guide_x + box_size, guide_y + box_size), (0, 0, 255), 2)\n",
    "    cv2.imshow(\"Guiding Box - Press 's' to start manual crop\", clone)\n",
    "    key = cv2.waitKey(0)\n",
    "    if key == ord('s'):\n",
    "        roi = cv2.selectROI(\"Manual Crop\", img, showCrosshair=True)\n",
    "        cv2.destroyAllWindows()\n",
    "        x, y, w, h = roi\n",
    "        cropped = img[y:y+h, x:x+w]\n",
    "        return cropped\n",
    "    cv2.destroyAllWindows()\n",
    "    return None"
   ]
  },
  {
   "cell_type": "code",
   "execution_count": 54,
   "id": "08739d24",
   "metadata": {},
   "outputs": [],
   "source": [
    "output_cropped_root = \"/data2/users/koushani/chbmit/Eye_ML/data/macular_cropped_dataset\"\n",
    "crop_size = 256"
   ]
  },
  {
   "cell_type": "code",
   "execution_count": 55,
   "id": "0cb184e8",
   "metadata": {},
   "outputs": [
    {
     "ename": "error",
     "evalue": "OpenCV(4.10.0) /io/opencv/modules/highgui/src/window.cpp:1301: error: (-2:Unspecified error) The function is not implemented. Rebuild the library with Windows, GTK+ 2.x or Cocoa support. If you are on Ubuntu or Debian, install libgtk2.0-dev and pkg-config, then re-run cmake or configure script in function 'cvShowImage'\n",
     "output_type": "error",
     "traceback": [
      "\u001b[0;31m---------------------------------------------------------------------------\u001b[0m",
      "\u001b[0;31merror\u001b[0m                                     Traceback (most recent call last)",
      "Cell \u001b[0;32mIn[55], line 1\u001b[0m\n\u001b[0;32m----> 1\u001b[0m cropped_img \u001b[38;5;241m=\u001b[39m \u001b[43mshow_with_guiding_box_and_crop\u001b[49m\u001b[43m(\u001b[49m\u001b[38;5;124;43m\"\u001b[39;49m\u001b[38;5;124;43m/data2/users/koushani/chbmit/Eye_ML/data/RV_images_cropped/CME/ACB_OU/ACB OD close.png\u001b[39;49m\u001b[38;5;124;43m\"\u001b[39;49m\u001b[43m)\u001b[49m\n\u001b[1;32m      2\u001b[0m \u001b[38;5;28;01mif\u001b[39;00m cropped_img \u001b[38;5;129;01mis\u001b[39;00m \u001b[38;5;129;01mnot\u001b[39;00m \u001b[38;5;28;01mNone\u001b[39;00m:\n\u001b[1;32m      3\u001b[0m     cv2\u001b[38;5;241m.\u001b[39mimwrite(\u001b[38;5;124m\"\u001b[39m\u001b[38;5;124mmanual_cropped.png\u001b[39m\u001b[38;5;124m\"\u001b[39m, cropped_img)\n",
      "Cell \u001b[0;32mIn[53], line 7\u001b[0m, in \u001b[0;36mshow_with_guiding_box_and_crop\u001b[0;34m(image_path, guide_x, guide_y, box_size)\u001b[0m\n\u001b[1;32m      5\u001b[0m \u001b[38;5;66;03m# Draw guiding rectangle\u001b[39;00m\n\u001b[1;32m      6\u001b[0m cv2\u001b[38;5;241m.\u001b[39mrectangle(clone, (guide_x, guide_y), (guide_x \u001b[38;5;241m+\u001b[39m box_size, guide_y \u001b[38;5;241m+\u001b[39m box_size), (\u001b[38;5;241m0\u001b[39m, \u001b[38;5;241m0\u001b[39m, \u001b[38;5;241m255\u001b[39m), \u001b[38;5;241m2\u001b[39m)\n\u001b[0;32m----> 7\u001b[0m \u001b[43mcv2\u001b[49m\u001b[38;5;241;43m.\u001b[39;49m\u001b[43mimshow\u001b[49m\u001b[43m(\u001b[49m\u001b[38;5;124;43m\"\u001b[39;49m\u001b[38;5;124;43mGuiding Box - Press \u001b[39;49m\u001b[38;5;124;43m'\u001b[39;49m\u001b[38;5;124;43ms\u001b[39;49m\u001b[38;5;124;43m'\u001b[39;49m\u001b[38;5;124;43m to start manual crop\u001b[39;49m\u001b[38;5;124;43m\"\u001b[39;49m\u001b[43m,\u001b[49m\u001b[43m \u001b[49m\u001b[43mclone\u001b[49m\u001b[43m)\u001b[49m\n\u001b[1;32m      8\u001b[0m key \u001b[38;5;241m=\u001b[39m cv2\u001b[38;5;241m.\u001b[39mwaitKey(\u001b[38;5;241m0\u001b[39m)\n\u001b[1;32m      9\u001b[0m \u001b[38;5;28;01mif\u001b[39;00m key \u001b[38;5;241m==\u001b[39m \u001b[38;5;28mord\u001b[39m(\u001b[38;5;124m'\u001b[39m\u001b[38;5;124ms\u001b[39m\u001b[38;5;124m'\u001b[39m):\n",
      "\u001b[0;31merror\u001b[0m: OpenCV(4.10.0) /io/opencv/modules/highgui/src/window.cpp:1301: error: (-2:Unspecified error) The function is not implemented. Rebuild the library with Windows, GTK+ 2.x or Cocoa support. If you are on Ubuntu or Debian, install libgtk2.0-dev and pkg-config, then re-run cmake or configure script in function 'cvShowImage'\n"
     ]
    }
   ],
   "source": [
    "cropped_img = show_with_guiding_box_and_crop(\"/data2/users/koushani/chbmit/Eye_ML/data/RV_images_cropped/CME/ACB_OU/ACB OD close.png\")\n",
    "if cropped_img is not None:\n",
    "    cv2.imwrite(\"manual_cropped.png\", cropped_img)"
   ]
  },
  {
   "cell_type": "code",
   "execution_count": null,
   "id": "2d352190",
   "metadata": {},
   "outputs": [],
   "source": []
  }
 ],
 "metadata": {
  "kernelspec": {
   "display_name": "Python 3",
   "language": "python",
   "name": "python3"
  },
  "language_info": {
   "codemirror_mode": {
    "name": "ipython",
    "version": 3
   },
   "file_extension": ".py",
   "mimetype": "text/x-python",
   "name": "python",
   "nbconvert_exporter": "python",
   "pygments_lexer": "ipython3",
   "version": "3.10.12"
  }
 },
 "nbformat": 4,
 "nbformat_minor": 5
}
